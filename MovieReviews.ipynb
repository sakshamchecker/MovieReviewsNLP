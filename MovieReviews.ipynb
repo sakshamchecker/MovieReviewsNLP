{
  "nbformat": 4,
  "nbformat_minor": 0,
  "metadata": {
    "colab": {
      "name": "MovieReviews.ipynb",
      "provenance": [],
      "collapsed_sections": [],
      "authorship_tag": "ABX9TyNLh6CR9HjzKZLhF328sVg9",
      "include_colab_link": true
    },
    "kernelspec": {
      "name": "python3",
      "display_name": "Python 3"
    },
    "language_info": {
      "name": "python"
    }
  },
  "cells": [
    {
      "cell_type": "markdown",
      "metadata": {
        "id": "view-in-github",
        "colab_type": "text"
      },
      "source": [
        "<a href=\"https://colab.research.google.com/github/sakshamchecker/MovieReviewsNLP/blob/main/MovieReviews.ipynb\" target=\"_parent\"><img src=\"https://colab.research.google.com/assets/colab-badge.svg\" alt=\"Open In Colab\"/></a>"
      ]
    },
    {
      "cell_type": "code",
      "metadata": {
        "colab": {
          "base_uri": "https://localhost:8080/"
        },
        "id": "wN8lxls_AOvx",
        "outputId": "386a7757-8fb4-452a-bdce-b82001fa2de1"
      },
      "source": [
        "import nltk\n",
        "from nltk.corpus import movie_reviews\n",
        "nltk.download('movie_reviews')"
      ],
      "execution_count": null,
      "outputs": [
        {
          "output_type": "stream",
          "text": [
            "[nltk_data] Downloading package movie_reviews to /root/nltk_data...\n",
            "[nltk_data]   Unzipping corpora/movie_reviews.zip.\n"
          ],
          "name": "stdout"
        },
        {
          "output_type": "execute_result",
          "data": {
            "text/plain": [
              "True"
            ]
          },
          "metadata": {
            "tags": []
          },
          "execution_count": 1
        }
      ]
    },
    {
      "cell_type": "code",
      "metadata": {
        "colab": {
          "base_uri": "https://localhost:8080/"
        },
        "id": "E_hA1Q8vAhfO",
        "outputId": "c7e97d3d-e3d6-48ca-a6db-8b6def3488e7"
      },
      "source": [
        "movie_reviews.categories()"
      ],
      "execution_count": null,
      "outputs": [
        {
          "output_type": "execute_result",
          "data": {
            "text/plain": [
              "['neg', 'pos']"
            ]
          },
          "metadata": {
            "tags": []
          },
          "execution_count": 2
        }
      ]
    },
    {
      "cell_type": "code",
      "metadata": {
        "colab": {
          "base_uri": "https://localhost:8080/"
        },
        "id": "Lk1mUsHDAoRj",
        "outputId": "57d154a9-8385-4b46-aa70-3a5619071986"
      },
      "source": [
        "len(movie_reviews.fileids())"
      ],
      "execution_count": null,
      "outputs": [
        {
          "output_type": "execute_result",
          "data": {
            "text/plain": [
              "2000"
            ]
          },
          "metadata": {
            "tags": []
          },
          "execution_count": 3
        }
      ]
    },
    {
      "cell_type": "code",
      "metadata": {
        "colab": {
          "base_uri": "https://localhost:8080/"
        },
        "id": "U-q-8wfFBP8_",
        "outputId": "47842838-70ef-4049-9701-e8aa87d03f56"
      },
      "source": [
        "movie_reviews.words(movie_reviews.fileids()[5])"
      ],
      "execution_count": null,
      "outputs": [
        {
          "output_type": "execute_result",
          "data": {
            "text/plain": [
              "['capsule', ':', 'in', '2176', 'on', 'the', 'planet', ...]"
            ]
          },
          "metadata": {
            "tags": []
          },
          "execution_count": 4
        }
      ]
    },
    {
      "cell_type": "code",
      "metadata": {
        "colab": {
          "base_uri": "https://localhost:8080/"
        },
        "id": "g45RbRFvBi5c",
        "outputId": "6347a1a9-06dc-4d36-a633-4b4f328be374"
      },
      "source": [
        "documents=[]\n",
        "for category in movie_reviews.categories():\n",
        "  for fileid in movie_reviews.fileids(category):\n",
        "    documents.append((movie_reviews.words(fileid),category))\n",
        "documents[:5]"
      ],
      "execution_count": null,
      "outputs": [
        {
          "output_type": "execute_result",
          "data": {
            "text/plain": [
              "[(['plot', ':', 'two', 'teen', 'couples', 'go', 'to', ...], 'neg'),\n",
              " (['the', 'happy', 'bastard', \"'\", 's', 'quick', 'movie', ...], 'neg'),\n",
              " (['it', 'is', 'movies', 'like', 'these', 'that', 'make', ...], 'neg'),\n",
              " (['\"', 'quest', 'for', 'camelot', '\"', 'is', 'warner', ...], 'neg'),\n",
              " (['synopsis', ':', 'a', 'mentally', 'unstable', 'man', ...], 'neg')]"
            ]
          },
          "metadata": {
            "tags": []
          },
          "execution_count": 5
        }
      ]
    },
    {
      "cell_type": "code",
      "metadata": {
        "id": "-ZwmZXNsERUf"
      },
      "source": [
        "import random\n",
        "random.shuffle(documents)"
      ],
      "execution_count": null,
      "outputs": []
    },
    {
      "cell_type": "code",
      "metadata": {
        "id": "ehJaSO5kPnGq"
      },
      "source": [
        "from nltk.stem import WordNetLemmatizer\n",
        "lemmetizer=WordNetLemmatizer()"
      ],
      "execution_count": null,
      "outputs": []
    },
    {
      "cell_type": "code",
      "metadata": {
        "id": "MuoBclViQNuh"
      },
      "source": [
        "from nltk.corpus import wordnet\n",
        "\n",
        "def get_simple_pos(tag):\n",
        "  if tag.startswith('J'):\n",
        "    return wordnet.ADJ\n",
        "  if tag.startswith('V'):\n",
        "    return wordnet.VERB\n",
        "  if tag.startswith('N'):\n",
        "    return wordnet.NOUN\n",
        "  if tag.startswith('R'):\n",
        "    return wordnet.ADV\n",
        "  return wordnet.NOUN"
      ],
      "execution_count": null,
      "outputs": []
    },
    {
      "cell_type": "code",
      "metadata": {
        "colab": {
          "base_uri": "https://localhost:8080/"
        },
        "id": "AKB9r6-zRBLS",
        "outputId": "9d5a0ca6-87d5-4634-9739-b751544557b9"
      },
      "source": [
        " import nltk\n",
        " nltk.download('punkt')\n",
        " nltk.download('stopwords')\n",
        " nltk.download('state_union')\n",
        " nltk.download('averaged_perceptron_tagger')\n",
        " nltk.download('wordnet')\n",
        " from nltk import pos_tag"
      ],
      "execution_count": null,
      "outputs": [
        {
          "output_type": "stream",
          "text": [
            "[nltk_data] Downloading package punkt to /root/nltk_data...\n",
            "[nltk_data]   Unzipping tokenizers/punkt.zip.\n",
            "[nltk_data] Downloading package stopwords to /root/nltk_data...\n",
            "[nltk_data]   Unzipping corpora/stopwords.zip.\n",
            "[nltk_data] Downloading package state_union to /root/nltk_data...\n",
            "[nltk_data]   Unzipping corpora/state_union.zip.\n",
            "[nltk_data] Downloading package averaged_perceptron_tagger to\n",
            "[nltk_data]     /root/nltk_data...\n",
            "[nltk_data]   Unzipping taggers/averaged_perceptron_tagger.zip.\n",
            "[nltk_data] Downloading package wordnet to /root/nltk_data...\n",
            "[nltk_data]   Unzipping corpora/wordnet.zip.\n"
          ],
          "name": "stdout"
        }
      ]
    },
    {
      "cell_type": "code",
      "metadata": {
        "id": "7xSqLhDHRDKt"
      },
      "source": [
        "from nltk.corpus import stopwords\n",
        "stops=set(stopwords.words('english'))\n",
        "import string\n",
        "stops.update(list(string.punctuation))"
      ],
      "execution_count": null,
      "outputs": []
    },
    {
      "cell_type": "code",
      "metadata": {
        "id": "AoaFT20ARbhW"
      },
      "source": [
        "# stops"
      ],
      "execution_count": null,
      "outputs": []
    },
    {
      "cell_type": "code",
      "metadata": {
        "id": "0i3t8DBPPPbd"
      },
      "source": [
        "\n",
        "def clean(words):\n",
        "  output_words=[]\n",
        "  for w in words:\n",
        "    if w.lower() not in stops:\n",
        "      pos=pos_tag([w])\n",
        "      clean_word=lemmetizer.lemmatize(w,pos=get_simple_pos(pos[0][1]))\n",
        "      output_words.append(clean_word.lower())\n",
        "  return output_words"
      ],
      "execution_count": null,
      "outputs": []
    },
    {
      "cell_type": "code",
      "metadata": {
        "id": "E7F8hB6YQzl7"
      },
      "source": [
        "documents=[(clean(doc),category) for doc, category in documents]"
      ],
      "execution_count": null,
      "outputs": []
    },
    {
      "cell_type": "code",
      "metadata": {
        "colab": {
          "base_uri": "https://localhost:8080/"
        },
        "id": "5gSh1445Rw_A",
        "outputId": "2fd0ddad-385e-4a61-d35b-73dcb630682e"
      },
      "source": [
        "len(documents)"
      ],
      "execution_count": null,
      "outputs": [
        {
          "output_type": "execute_result",
          "data": {
            "text/plain": [
              "2000"
            ]
          },
          "metadata": {
            "tags": []
          },
          "execution_count": 14
        }
      ]
    },
    {
      "cell_type": "code",
      "metadata": {
        "id": "1jn3E09TTyNt"
      },
      "source": [
        "training_docs=documents[0:1500]\n",
        "testing_docs=documents[1500:]"
      ],
      "execution_count": null,
      "outputs": []
    },
    {
      "cell_type": "code",
      "metadata": {
        "id": "_mYkWqz-S4aU"
      },
      "source": [
        "all_words=[]\n",
        "for doc in training_docs:\n",
        "  all_words+=doc[0]"
      ],
      "execution_count": null,
      "outputs": []
    },
    {
      "cell_type": "code",
      "metadata": {
        "id": "RJnMNxrcUNwj"
      },
      "source": [
        "import nltk"
      ],
      "execution_count": null,
      "outputs": []
    },
    {
      "cell_type": "code",
      "metadata": {
        "id": "W6bjCGhOUQ5u"
      },
      "source": [
        "freq=nltk.FreqDist(all_words)\n",
        "common=freq.most_common(3000)\n",
        "\n",
        "features=[i[0] for i in common]"
      ],
      "execution_count": null,
      "outputs": []
    },
    {
      "cell_type": "code",
      "metadata": {
        "id": "2jQCmfcfUT7f"
      },
      "source": [
        "def get_feature_dict(words):\n",
        "  current_features={}\n",
        "  words_set=set(words)\n",
        "  for w in features:\n",
        "    current_features[w]=w in words_set\n",
        "  return current_features"
      ],
      "execution_count": null,
      "outputs": []
    },
    {
      "cell_type": "code",
      "metadata": {
        "id": "0BLF42PgVlj4"
      },
      "source": [
        "# get_feature_dict(training_docs[0][0])"
      ],
      "execution_count": null,
      "outputs": []
    },
    {
      "cell_type": "code",
      "metadata": {
        "id": "-HRi_PW8VWxp"
      },
      "source": [
        "training_data=[(get_feature_dict(doc),category) for doc, category in training_docs]"
      ],
      "execution_count": null,
      "outputs": []
    },
    {
      "cell_type": "code",
      "metadata": {
        "id": "CungwiyhVlHF"
      },
      "source": [
        "# training_data"
      ],
      "execution_count": null,
      "outputs": []
    },
    {
      "cell_type": "code",
      "metadata": {
        "id": "VLOUIz9VV6GH"
      },
      "source": [
        "testng_data=[(get_feature_dict(doc),category) for doc, category in testing_docs]"
      ],
      "execution_count": null,
      "outputs": []
    },
    {
      "cell_type": "code",
      "metadata": {
        "id": "Rrbr3rmRWSuN"
      },
      "source": [
        "# training_data[0]"
      ],
      "execution_count": null,
      "outputs": []
    },
    {
      "cell_type": "code",
      "metadata": {
        "id": "qbzOY6wUWbDY"
      },
      "source": [
        "from nltk import NaiveBayesClassifier"
      ],
      "execution_count": null,
      "outputs": []
    },
    {
      "cell_type": "code",
      "metadata": {
        "id": "t9JmMCRfWyVS"
      },
      "source": [
        "classifier=NaiveBayesClassifier.train(training_data)"
      ],
      "execution_count": null,
      "outputs": []
    },
    {
      "cell_type": "code",
      "metadata": {
        "colab": {
          "base_uri": "https://localhost:8080/"
        },
        "id": "daHRxG5gW43a",
        "outputId": "153e94fc-a30b-437a-d76a-daa55f7bc997"
      },
      "source": [
        "nltk.classify.accuracy(classifier, testng_data)"
      ],
      "execution_count": null,
      "outputs": [
        {
          "output_type": "execute_result",
          "data": {
            "text/plain": [
              "0.77"
            ]
          },
          "metadata": {
            "tags": []
          },
          "execution_count": 27
        }
      ]
    },
    {
      "cell_type": "code",
      "metadata": {
        "colab": {
          "base_uri": "https://localhost:8080/"
        },
        "id": "NeacqAZQXDQW",
        "outputId": "90720ab7-8b82-4295-878d-a5e2aae889a5"
      },
      "source": [
        "classifier.show_most_informative_features(15)"
      ],
      "execution_count": null,
      "outputs": [
        {
          "output_type": "stream",
          "text": [
            "Most Informative Features\n",
            "               ludicrous = True              neg : pos    =     13.2 : 1.0\n",
            "             outstanding = True              pos : neg    =     11.1 : 1.0\n",
            "                religion = True              pos : neg    =     10.7 : 1.0\n",
            "                  alicia = True              neg : pos    =     10.2 : 1.0\n",
            "              dreamworks = True              pos : neg    =      9.8 : 1.0\n",
            "              schumacher = True              neg : pos    =      9.5 : 1.0\n",
            "                   jolie = True              neg : pos    =      8.9 : 1.0\n",
            "                   mulan = True              pos : neg    =      7.8 : 1.0\n",
            "                   inept = True              neg : pos    =      7.6 : 1.0\n",
            "                   awful = True              neg : pos    =      7.5 : 1.0\n",
            "                    lame = True              neg : pos    =      7.2 : 1.0\n",
            "                     sat = True              neg : pos    =      7.2 : 1.0\n",
            "             magnificent = True              pos : neg    =      7.1 : 1.0\n",
            "             wonderfully = True              pos : neg    =      6.9 : 1.0\n",
            "                 idiotic = True              neg : pos    =      6.9 : 1.0\n"
          ],
          "name": "stdout"
        }
      ]
    },
    {
      "cell_type": "code",
      "metadata": {
        "id": "xpl2NO2KXU9m"
      },
      "source": [
        "from sklearn.svm import SVC\n",
        "from nltk.classify.scikitlearn import SklearnClassifier"
      ],
      "execution_count": null,
      "outputs": []
    },
    {
      "cell_type": "code",
      "metadata": {
        "id": "ZhFiZWwMKs8v"
      },
      "source": [
        "svc=SVC()\n",
        "classifier= SklearnClassifier(svc)"
      ],
      "execution_count": null,
      "outputs": []
    },
    {
      "cell_type": "code",
      "metadata": {
        "colab": {
          "base_uri": "https://localhost:8080/"
        },
        "id": "QyjL1hzBK1NG",
        "outputId": "d6c03a59-25d4-4635-f4d9-68a3ee7e06cb"
      },
      "source": [
        "classifier.train(training_data)"
      ],
      "execution_count": null,
      "outputs": [
        {
          "output_type": "execute_result",
          "data": {
            "text/plain": [
              "<SklearnClassifier(SVC(C=1.0, break_ties=False, cache_size=200, class_weight=None, coef0=0.0,\n",
              "    decision_function_shape='ovr', degree=3, gamma='scale', kernel='rbf',\n",
              "    max_iter=-1, probability=False, random_state=None, shrinking=True,\n",
              "    tol=0.001, verbose=False))>"
            ]
          },
          "metadata": {
            "tags": []
          },
          "execution_count": 32
        }
      ]
    },
    {
      "cell_type": "code",
      "metadata": {
        "colab": {
          "base_uri": "https://localhost:8080/"
        },
        "id": "TFH47DRKK98S",
        "outputId": "a74bfbee-b67e-4ed2-a23e-abd200746afe"
      },
      "source": [
        "nltk.classify.accuracy(classifier, testng_data)"
      ],
      "execution_count": null,
      "outputs": [
        {
          "output_type": "execute_result",
          "data": {
            "text/plain": [
              "0.82"
            ]
          },
          "metadata": {
            "tags": []
          },
          "execution_count": 34
        }
      ]
    },
    {
      "cell_type": "code",
      "metadata": {
        "id": "O9iGQ_h_LEFd"
      },
      "source": [
        "from sklearn.ensemble import RandomForestClassifier"
      ],
      "execution_count": null,
      "outputs": []
    },
    {
      "cell_type": "code",
      "metadata": {
        "id": "nMEuGpPvLXiQ"
      },
      "source": [
        "rfc=RandomForestClassifier()\n",
        "classifier1=SklearnClassifier(rfc)"
      ],
      "execution_count": null,
      "outputs": []
    },
    {
      "cell_type": "code",
      "metadata": {
        "colab": {
          "base_uri": "https://localhost:8080/"
        },
        "id": "vE6D96GTLrFG",
        "outputId": "099905d0-9656-4e41-8cab-3d9dc0514db5"
      },
      "source": [
        "classifier1.train(training_data)"
      ],
      "execution_count": null,
      "outputs": [
        {
          "output_type": "execute_result",
          "data": {
            "text/plain": [
              "<SklearnClassifier(RandomForestClassifier(bootstrap=True, ccp_alpha=0.0, class_weight=None,\n",
              "                       criterion='gini', max_depth=None, max_features='auto',\n",
              "                       max_leaf_nodes=None, max_samples=None,\n",
              "                       min_impurity_decrease=0.0, min_impurity_split=None,\n",
              "                       min_samples_leaf=1, min_samples_split=2,\n",
              "                       min_weight_fraction_leaf=0.0, n_estimators=100,\n",
              "                       n_jobs=None, oob_score=False, random_state=None,\n",
              "                       verbose=0, warm_start=False))>"
            ]
          },
          "metadata": {
            "tags": []
          },
          "execution_count": 41
        }
      ]
    },
    {
      "cell_type": "code",
      "metadata": {
        "colab": {
          "base_uri": "https://localhost:8080/"
        },
        "id": "7dfJeQyXLvo4",
        "outputId": "a79f668d-c0cb-40dd-c70b-044ff14c5da5"
      },
      "source": [
        "nltk.classify.accuracy(classifier1, testng_data)"
      ],
      "execution_count": null,
      "outputs": [
        {
          "output_type": "execute_result",
          "data": {
            "text/plain": [
              "0.784"
            ]
          },
          "metadata": {
            "tags": []
          },
          "execution_count": 43
        }
      ]
    },
    {
      "cell_type": "code",
      "metadata": {
        "id": "5lFRxTB2L12x"
      },
      "source": [
        "categories= [category for document, category in documents]"
      ],
      "execution_count": 44,
      "outputs": []
    },
    {
      "cell_type": "code",
      "metadata": {
        "id": "mHG_ZcQHSRA_"
      },
      "source": [
        "text_documents = [' '.join(document) for document, category in documents]\n"
      ],
      "execution_count": 48,
      "outputs": []
    },
    {
      "cell_type": "code",
      "metadata": {
        "colab": {
          "base_uri": "https://localhost:8080/",
          "height": 222
        },
        "id": "A-x3_MwjSXN-",
        "outputId": "61bcde34-76c5-4352-902b-c1b24ed10e68"
      },
      "source": [
        "text_documents[0]"
      ],
      "execution_count": 49,
      "outputs": [
        {
          "output_type": "execute_result",
          "data": {
            "application/vnd.google.colaboratory.intrinsic+json": {
              "type": "string"
            },
            "text/plain": [
              "'nothing like american history x theater video feature film take cold hard look lure culture brotherhood white supremacy nice guy ed norton jr sang everyone say love play derek twenty year old skinhead dad subtle racism grow large derek gang member kill father dad fight fire shot derek keep head shave giant swastika tattooed heart derek interested idea white supremacy culture violence basketball court black white temper flare derek channel aggression game black versus white ownership court choice present derek go game point instead sucker punch cameron stacy keach step derek life surrogate father take derek wing nurture racist feeling keep criminal record spotless us derek leader organizer high visibility racial intimidation derek obliges lead young dumber friend race motivate mob crime bottom chain derek young brother danny edward furlong make famous terminator 2 join skinhead ideological intellectual reason admires brother want belong one night three black youth break derek truck exactly derek wait outside short tattoo shoot third would thief unarmed wound key scene film derek command kid position kill one glorious enrapture awful stomp fun spoil nc 17 orgazmo seem even inappropriate consider american history x rat r sort country say sex comedy big threat youth brutal ecstatic violence police arrive derek kill last thief derek resist cop spin around cuff film slows derek raise eyebrow smile little brother chill sadistic satisfied grin prison derek face new challenge black man laundry tell joint nigra clique swastika wear skinhead interested ideology white supremacy use symbol mean intimidation derek find truly alone truly danger truly afraid derek finally get prison find friend gang also change without derek leadership shun white supremacist ideology white supremacist culture final factor make realize badly screw end spends quality time brother try undo respect admiration earlier inspire danny film end little deliberately neatly unchained emotion violent glee rest film barely detracts overall experience edward norton give oscar worthy performance although dialogue seem write without enough conviction norton performance compensate example come mind pep talk loot store also capture essence old brother take responsibility role model young brother seriously lovingly change heart though clearly taste film bold dare subject matter ugly cruel time hard look nevertheless subject part humanity great face kaye give u good look fascinate distasteful american subculture'"
            ]
          },
          "metadata": {
            "tags": []
          },
          "execution_count": 49
        }
      ]
    },
    {
      "cell_type": "code",
      "metadata": {
        "id": "q3NohLDpSnkX"
      },
      "source": [
        "from sklearn.model_selection import train_test_split"
      ],
      "execution_count": 50,
      "outputs": []
    },
    {
      "cell_type": "code",
      "metadata": {
        "id": "mwkMbIqUS8rW"
      },
      "source": [
        "x_train, x_test, y_train, y_test= train_test_split(text_documents, categories)"
      ],
      "execution_count": 51,
      "outputs": []
    },
    {
      "cell_type": "code",
      "metadata": {
        "id": "RaTub7bQTEVA"
      },
      "source": [
        "from sklearn.feature_extraction.text import CountVectorizer"
      ],
      "execution_count": 52,
      "outputs": []
    },
    {
      "cell_type": "code",
      "metadata": {
        "id": "0pSX7rf2TPV_"
      },
      "source": [
        "count_vec=CountVectorizer(max_features=2000 , ngram_range=(2,3))\n",
        "x_train_features= count_vec.fit_transform(x_train)"
      ],
      "execution_count": 68,
      "outputs": []
    },
    {
      "cell_type": "code",
      "metadata": {
        "colab": {
          "base_uri": "https://localhost:8080/"
        },
        "id": "9Iuua30ETc5O",
        "outputId": "0df87c27-c4de-41e8-8c3f-5d5215723a92"
      },
      "source": [
        "x_train_features"
      ],
      "execution_count": 61,
      "outputs": [
        {
          "output_type": "execute_result",
          "data": {
            "text/plain": [
              "<1500x2000 sparse matrix of type '<class 'numpy.int64'>'\n",
              "\twith 259889 stored elements in Compressed Sparse Row format>"
            ]
          },
          "metadata": {
            "tags": []
          },
          "execution_count": 61
        }
      ]
    },
    {
      "cell_type": "code",
      "metadata": {
        "colab": {
          "base_uri": "https://localhost:8080/"
        },
        "id": "sBEkRkzQTeL3",
        "outputId": "28636c3b-b1d7-4beb-dd5d-1527ed6818ea"
      },
      "source": [
        "count_vec.get_feature_names()"
      ],
      "execution_count": 69,
      "outputs": [
        {
          "output_type": "execute_result",
          "data": {
            "text/plain": [
              "['10 10',\n",
              " '10 minute',\n",
              " '10 scale',\n",
              " '10 scale scale',\n",
              " '10 thing',\n",
              " '10 thing hate',\n",
              " '10 year',\n",
              " '100 million',\n",
              " '13th warrior',\n",
              " '14 year',\n",
              " '15 minute',\n",
              " '17 year',\n",
              " '19th century',\n",
              " '20 minute',\n",
              " '20 year',\n",
              " '2001 space',\n",
              " '2001 space odyssey',\n",
              " '20th century',\n",
              " '30 minute',\n",
              " '30 year',\n",
              " '90 minute',\n",
              " 'able make',\n",
              " 'absolutely nothing',\n",
              " 'academy award',\n",
              " 'ace ventura',\n",
              " 'act ability',\n",
              " 'act film',\n",
              " 'act like',\n",
              " 'act talent',\n",
              " 'action adventure',\n",
              " 'action comedy',\n",
              " 'action film',\n",
              " 'action flick',\n",
              " 'action hero',\n",
              " 'action movie',\n",
              " 'action packed',\n",
              " 'action scene',\n",
              " 'action sequence',\n",
              " 'action thriller',\n",
              " 'actor film',\n",
              " 'actor play',\n",
              " 'actor seem',\n",
              " 'actually get',\n",
              " 'actually quite',\n",
              " 'actually work',\n",
              " 'adam sandler',\n",
              " 'adult film',\n",
              " 'african american',\n",
              " 'air force',\n",
              " 'al pacino',\n",
              " 'alan smithee',\n",
              " 'albert brook',\n",
              " 'ali larter',\n",
              " 'alicia silverstone',\n",
              " 'alien film',\n",
              " 'almost always',\n",
              " 'almost entirely',\n",
              " 'almost every',\n",
              " 'along line',\n",
              " 'along way',\n",
              " 'already know',\n",
              " 'also direct',\n",
              " 'also feature',\n",
              " 'also get',\n",
              " 'also give',\n",
              " 'also good',\n",
              " 'also help',\n",
              " 'also include',\n",
              " 'also know',\n",
              " 'also like',\n",
              " 'also make',\n",
              " 'also one',\n",
              " 'also quite',\n",
              " 'also seem',\n",
              " 'also try',\n",
              " 'also write',\n",
              " 'although film',\n",
              " 'always seem',\n",
              " 'american beauty',\n",
              " 'american dream',\n",
              " 'american film',\n",
              " 'american history',\n",
              " 'american pie',\n",
              " 'among thing',\n",
              " 'angelina jolie',\n",
              " 'angry inch',\n",
              " 'animate feature',\n",
              " 'animate film',\n",
              " 'annette bening',\n",
              " 'another character',\n",
              " 'another film',\n",
              " 'another man',\n",
              " 'another movie',\n",
              " 'another one',\n",
              " 'another thing',\n",
              " 'answer question',\n",
              " 'anthony hopkins',\n",
              " 'antonio banderas',\n",
              " 'anyone else',\n",
              " 'anyone see',\n",
              " 'anything else',\n",
              " 'anything film',\n",
              " 'apollo 13',\n",
              " 'appear film',\n",
              " 'arnold schwarzenegger',\n",
              " 'around corner',\n",
              " 'art direction',\n",
              " 'ashley judd',\n",
              " 'aspect film',\n",
              " 'aspect ratio',\n",
              " 'atom egoyan',\n",
              " 'attempt make',\n",
              " 'audience get',\n",
              " 'audience member',\n",
              " 'austin power',\n",
              " 'award win',\n",
              " 'away film',\n",
              " 'ba ku',\n",
              " 'babe pig',\n",
              " 'babe pig city',\n",
              " 'back forth',\n",
              " 'back home',\n",
              " 'back story',\n",
              " 'back time',\n",
              " 'bad act',\n",
              " 'bad actor',\n",
              " 'bad bad',\n",
              " 'bad boy',\n",
              " 'bad dialogue',\n",
              " 'bad enough',\n",
              " 'bad film',\n",
              " 'bad guy',\n",
              " 'bad movie',\n",
              " 'bad news',\n",
              " 'bad one',\n",
              " 'bad thing',\n",
              " 'base book',\n",
              " 'base novel',\n",
              " 'base true',\n",
              " 'base upon',\n",
              " 'basic instinct',\n",
              " 'basic plot',\n",
              " 'batman robin',\n",
              " 'battle scene',\n",
              " 'battlefield earth',\n",
              " 'beautiful woman',\n",
              " 'beauty beast',\n",
              " 'become one',\n",
              " 'becomes apparent',\n",
              " 'begin end',\n",
              " 'begin film',\n",
              " 'begin movie',\n",
              " 'behind camera',\n",
              " 'ben affleck',\n",
              " 'ben stiller',\n",
              " 'best actor',\n",
              " 'best film',\n",
              " 'best friend',\n",
              " 'best friend wedding',\n",
              " 'best know',\n",
              " 'best movie',\n",
              " 'best part',\n",
              " 'best performance',\n",
              " 'best picture',\n",
              " 'best scene',\n",
              " 'best support',\n",
              " 'best thing',\n",
              " 'best way',\n",
              " 'best work',\n",
              " 'beverly hill',\n",
              " 'big budget',\n",
              " 'big city',\n",
              " 'big disappointment',\n",
              " 'big fan',\n",
              " 'big hit',\n",
              " 'big laugh',\n",
              " 'big lebowski',\n",
              " 'big momma',\n",
              " 'big name',\n",
              " 'big problem',\n",
              " 'big screen',\n",
              " 'big star',\n",
              " 'big surprise',\n",
              " 'big time',\n",
              " 'bill murray',\n",
              " 'bill paxton',\n",
              " 'bill pullman',\n",
              " 'billy bob',\n",
              " 'billy crystal',\n",
              " 'black cauldron',\n",
              " 'black comedy',\n",
              " 'black white',\n",
              " 'blade runner',\n",
              " 'blade squad',\n",
              " 'blah blah',\n",
              " 'blair witch',\n",
              " 'blair witch project',\n",
              " 'blue brother',\n",
              " 'blue velvet',\n",
              " 'bob strike',\n",
              " 'bob strike back',\n",
              " 'body count',\n",
              " 'boiler room',\n",
              " 'bond film',\n",
              " 'boogie night',\n",
              " 'bottom line',\n",
              " 'box office',\n",
              " 'boy name',\n",
              " 'brad pitt',\n",
              " 'bridget fonda',\n",
              " 'bright spot',\n",
              " 'bring back',\n",
              " 'bruce greenwood',\n",
              " 'bruce willis',\n",
              " 'bug life',\n",
              " 'butcher boy',\n",
              " 'cameo appearance',\n",
              " 'camera angle',\n",
              " 'camera work',\n",
              " 'cameron diaz',\n",
              " 'car accident',\n",
              " 'car chase',\n",
              " 'car crash',\n",
              " 'care character',\n",
              " 'care less',\n",
              " 'care much',\n",
              " 'carry film',\n",
              " 'cast also',\n",
              " 'cast character',\n",
              " 'cast crew',\n",
              " 'cast include',\n",
              " 'cast member',\n",
              " 'catherine keener',\n",
              " 'catherine zeta',\n",
              " 'cell phone',\n",
              " 'center around',\n",
              " 'central character',\n",
              " 'century fox',\n",
              " 'chan movie',\n",
              " 'change mind',\n",
              " 'change pace',\n",
              " 'character actor',\n",
              " 'character actually',\n",
              " 'character also',\n",
              " 'character come',\n",
              " 'character could',\n",
              " 'character development',\n",
              " 'character even',\n",
              " 'character film',\n",
              " 'character get',\n",
              " 'character give',\n",
              " 'character go',\n",
              " 'character interaction',\n",
              " 'character like',\n",
              " 'character make',\n",
              " 'character movie',\n",
              " 'character much',\n",
              " 'character name',\n",
              " 'character never',\n",
              " 'character one',\n",
              " 'character play',\n",
              " 'character played',\n",
              " 'character plot',\n",
              " 'character real',\n",
              " 'character really',\n",
              " 'character see',\n",
              " 'character seem',\n",
              " 'character show',\n",
              " 'character situation',\n",
              " 'character story',\n",
              " 'character study',\n",
              " 'character suppose',\n",
              " 'character well',\n",
              " 'character would',\n",
              " 'charlize theron',\n",
              " 'chase scene',\n",
              " 'cheap laugh',\n",
              " 'chicken run',\n",
              " 'child actor',\n",
              " 'chris donnell',\n",
              " 'chris rock',\n",
              " 'chris tucker',\n",
              " 'christina ricci',\n",
              " 'christopher walken',\n",
              " 'city angel',\n",
              " 'civil action',\n",
              " 'civil war',\n",
              " 'claude van',\n",
              " 'claude van damme',\n",
              " 'clint eastwood',\n",
              " 'close encounter',\n",
              " 'close ups',\n",
              " 'co star',\n",
              " 'co worker',\n",
              " 'co write',\n",
              " 'co writer',\n",
              " 'coen brother',\n",
              " 'cold war',\n",
              " 'come across',\n",
              " 'come along',\n",
              " 'come back',\n",
              " 'come close',\n",
              " 'come end',\n",
              " 'come go',\n",
              " 'come life',\n",
              " 'come like',\n",
              " 'come mind',\n",
              " 'come play',\n",
              " 'come time',\n",
              " 'come together',\n",
              " 'come true',\n",
              " 'comedy film',\n",
              " 'comic book',\n",
              " 'comic relief',\n",
              " 'commentary track',\n",
              " 'computer animate',\n",
              " 'computer generate',\n",
              " 'con air',\n",
              " 'conspiracy theory',\n",
              " 'could do',\n",
              " 'could easily',\n",
              " 'could go',\n",
              " 'could happen',\n",
              " 'could make',\n",
              " 'could much',\n",
              " 'could never',\n",
              " 'could possibly',\n",
              " 'could say',\n",
              " 'could see',\n",
              " 'could use',\n",
              " 'could well',\n",
              " 'couple year',\n",
              " 'course film',\n",
              " 'course movie',\n",
              " 'course one',\n",
              " 'courtroom drama',\n",
              " 'credit roll',\n",
              " 'credit sequence',\n",
              " 'crew member',\n",
              " 'crime film',\n",
              " 'cuba gooding',\n",
              " 'cuba gooding jr',\n",
              " 'cult classic',\n",
              " 'cult film',\n",
              " 'danny devito',\n",
              " 'danny elfman',\n",
              " 'dante peak',\n",
              " 'dark city',\n",
              " 'dark side',\n",
              " 'darth vader',\n",
              " 'david arquette',\n",
              " 'david lynch',\n",
              " 'david morse',\n",
              " 'dawson creek',\n",
              " 'de bont',\n",
              " 'de niro',\n",
              " 'de palma',\n",
              " 'dead bang',\n",
              " 'dead end',\n",
              " 'decade ago',\n",
              " 'decides go',\n",
              " 'deep end',\n",
              " 'deep impact',\n",
              " 'deep rise',\n",
              " 'del toro',\n",
              " 'denise richards',\n",
              " 'dennis hopper',\n",
              " 'dennis quaid',\n",
              " 'denzel washington',\n",
              " 'der beek',\n",
              " 'despite fact',\n",
              " 'devil advocate',\n",
              " 'die hard',\n",
              " 'different story',\n",
              " 'different way',\n",
              " 'dim witted',\n",
              " 'dimensional character',\n",
              " 'dina meyer',\n",
              " 'direct film',\n",
              " 'director cut',\n",
              " 'director david',\n",
              " 'director john',\n",
              " 'director paul',\n",
              " 'director peter',\n",
              " 'director writer',\n",
              " 'directorial debut',\n",
              " 'disaster film',\n",
              " 'disaster movie',\n",
              " 'disney animate',\n",
              " 'disney film',\n",
              " 'do well',\n",
              " 'donald sutherland',\n",
              " 'donnie brasco',\n",
              " 'double cross',\n",
              " 'double jeopardy',\n",
              " 'dr evil',\n",
              " 'dream sequence',\n",
              " 'drew barrymore',\n",
              " 'drug deal',\n",
              " 'drug dealer',\n",
              " 'drunken master',\n",
              " 'due fact',\n",
              " 'dumb dumber',\n",
              " 'dusk till',\n",
              " 'dusk till dawn',\n",
              " 'dustin hoffman',\n",
              " 'earlier film',\n",
              " 'early film',\n",
              " 'early scene',\n",
              " 'ed harris',\n",
              " 'ed wood',\n",
              " 'eddie murphy',\n",
              " 'edward norton',\n",
              " 'effect film',\n",
              " 'eight year',\n",
              " 'either way',\n",
              " 'element film',\n",
              " 'elijah wood',\n",
              " 'else film',\n",
              " 'end credit',\n",
              " 'end day',\n",
              " 'end film',\n",
              " 'end movie',\n",
              " 'end one',\n",
              " 'end result',\n",
              " 'enjoy film',\n",
              " 'enjoy movie',\n",
              " 'enough make',\n",
              " 'enough time',\n",
              " 'ensemble cast',\n",
              " 'entertain film',\n",
              " 'entertainment value',\n",
              " 'entire film',\n",
              " 'entire life',\n",
              " 'entire movie',\n",
              " 'etc etc',\n",
              " 'eugene levy',\n",
              " 'even bad',\n",
              " 'even begin',\n",
              " 'even come',\n",
              " 'even film',\n",
              " 'even get',\n",
              " 'even go',\n",
              " 'even good',\n",
              " 'even know',\n",
              " 'even less',\n",
              " 'even like',\n",
              " 'even make',\n",
              " 'even one',\n",
              " 'even remotely',\n",
              " 'even see',\n",
              " 'even though',\n",
              " 'even try',\n",
              " 'even well',\n",
              " 'event horizon',\n",
              " 'ever get',\n",
              " 'ever make',\n",
              " 'ever see',\n",
              " 'ever since',\n",
              " 'every bit',\n",
              " 'every character',\n",
              " 'every day',\n",
              " 'every line',\n",
              " 'every movie',\n",
              " 'every one',\n",
              " 'every scene',\n",
              " 'every single',\n",
              " 'every time',\n",
              " 'everyone else',\n",
              " 'everyone involve',\n",
              " 'everyone know',\n",
              " 'everything else',\n",
              " 'everything seem',\n",
              " 'ewan mcgregor',\n",
              " 'ex girlfriend',\n",
              " 'ex wife',\n",
              " 'exactly go',\n",
              " 'example film',\n",
              " 'expect film',\n",
              " 'expect much',\n",
              " 'expect see',\n",
              " 'extremely well',\n",
              " 'fact character',\n",
              " 'fact film',\n",
              " 'fact movie',\n",
              " 'fairy tale',\n",
              " 'fall apart',\n",
              " 'fall flat',\n",
              " 'fall love',\n",
              " 'family film',\n",
              " 'famke janssen',\n",
              " 'far away',\n",
              " 'far fetch',\n",
              " 'far superior',\n",
              " 'far well',\n",
              " 'fare well',\n",
              " 'farrelly brother',\n",
              " 'fast forward',\n",
              " 'fast pace',\n",
              " 'father son',\n",
              " 'fbi agent',\n",
              " 'fear loathe',\n",
              " 'feature film',\n",
              " 'feature length',\n",
              " 'feel good',\n",
              " 'feel like',\n",
              " 'feel sorry',\n",
              " 'fei hong',\n",
              " 'felt like',\n",
              " 'female character',\n",
              " 'fi film',\n",
              " 'fiction film',\n",
              " 'fifteen minute',\n",
              " 'fifteen year',\n",
              " 'fifth element',\n",
              " 'fight club',\n",
              " 'fight scene',\n",
              " 'fight sequence',\n",
              " 'film action',\n",
              " 'film actor',\n",
              " 'film actually',\n",
              " 'film alien',\n",
              " 'film almost',\n",
              " 'film also',\n",
              " 'film although',\n",
              " 'film audience',\n",
              " 'film bad',\n",
              " 'film base',\n",
              " 'film basically',\n",
              " 'film become',\n",
              " 'film becomes',\n",
              " 'film begin',\n",
              " 'film best',\n",
              " 'film big',\n",
              " 'film call',\n",
              " 'film character',\n",
              " 'film come',\n",
              " 'film completely',\n",
              " 'film could',\n",
              " 'film course',\n",
              " 'film critic',\n",
              " 'film deal',\n",
              " 'film despite',\n",
              " 'film direct',\n",
              " 'film director',\n",
              " 'film do',\n",
              " 'film end',\n",
              " 'film even',\n",
              " 'film ever',\n",
              " 'film ever make',\n",
              " 'film ever see',\n",
              " 'film every',\n",
              " 'film expect',\n",
              " 'film fact',\n",
              " 'film far',\n",
              " 'film feature',\n",
              " 'film feel',\n",
              " 'film festival',\n",
              " 'film fill',\n",
              " 'film film',\n",
              " 'film first',\n",
              " 'film focus',\n",
              " 'film follow',\n",
              " 'film full',\n",
              " 'film genre',\n",
              " 'film get',\n",
              " 'film give',\n",
              " 'film go',\n",
              " 'film good',\n",
              " 'film great',\n",
              " 'film history',\n",
              " 'film however',\n",
              " 'film industry',\n",
              " 'film instead',\n",
              " 'film interest',\n",
              " 'film know',\n",
              " 'film lack',\n",
              " 'film last',\n",
              " 'film least',\n",
              " 'film like',\n",
              " 'film little',\n",
              " 'film look',\n",
              " 'film lot',\n",
              " 'film main',\n",
              " 'film make',\n",
              " 'film maker',\n",
              " 'film many',\n",
              " 'film may',\n",
              " 'film might',\n",
              " 'film movie',\n",
              " 'film much',\n",
              " 'film need',\n",
              " 'film never',\n",
              " 'film noir',\n",
              " 'film nothing',\n",
              " 'film offer',\n",
              " 'film one',\n",
              " 'film open',\n",
              " 'film opening',\n",
              " 'film original',\n",
              " 'film people',\n",
              " 'film perhaps',\n",
              " 'film play',\n",
              " 'film plot',\n",
              " 'film pretty',\n",
              " 'film probably',\n",
              " 'film progress',\n",
              " 'film really',\n",
              " 'film release',\n",
              " 'film review',\n",
              " 'film run',\n",
              " 'film say',\n",
              " 'film scene',\n",
              " 'film see',\n",
              " 'film seem',\n",
              " 'film series',\n",
              " 'film set',\n",
              " 'film show',\n",
              " 'film simply',\n",
              " 'film since',\n",
              " 'film star',\n",
              " 'film start',\n",
              " 'film still',\n",
              " 'film story',\n",
              " 'film suppose',\n",
              " 'film take',\n",
              " 'film take place',\n",
              " 'film tell',\n",
              " 'film think',\n",
              " 'film though',\n",
              " 'film time',\n",
              " 'film title',\n",
              " 'film together',\n",
              " 'film try',\n",
              " 'film turn',\n",
              " 'film two',\n",
              " 'film us',\n",
              " 'film use',\n",
              " 'film version',\n",
              " 'film want',\n",
              " 'film watch',\n",
              " 'film way',\n",
              " 'film well',\n",
              " 'film whole',\n",
              " 'film without',\n",
              " 'film work',\n",
              " 'film would',\n",
              " 'film year',\n",
              " 'final destination',\n",
              " 'final scene',\n",
              " 'finally come',\n",
              " 'finally get',\n",
              " 'find film',\n",
              " 'find one',\n",
              " 'find way',\n",
              " 'fine line',\n",
              " 'first contact',\n",
              " 'first feature',\n",
              " 'first film',\n",
              " 'first glance',\n",
              " 'first half',\n",
              " 'first hour',\n",
              " 'first meet',\n",
              " 'first movie',\n",
              " 'first one',\n",
              " 'first place',\n",
              " 'first rate',\n",
              " 'first saw',\n",
              " 'first scene',\n",
              " 'first see',\n",
              " 'first thing',\n",
              " 'first time',\n",
              " 'first two',\n",
              " 'five minute',\n",
              " 'five year',\n",
              " 'forty five',\n",
              " 'foul mouth',\n",
              " 'found film',\n",
              " 'four star',\n",
              " 'four year',\n",
              " 'freddie prinze',\n",
              " 'freddie prinze jr',\n",
              " 'friend wedding',\n",
              " 'full length',\n",
              " 'full monty',\n",
              " 'fun watch',\n",
              " 'funny moment',\n",
              " 'funny movie',\n",
              " 'funny scene',\n",
              " 'galaxy quest',\n",
              " 'gary oldman',\n",
              " 'gary sinise',\n",
              " 'gauge 10',\n",
              " 'gene hackman',\n",
              " 'general daughter',\n",
              " 'geoffrey rush',\n",
              " 'george clooney',\n",
              " 'george lucas',\n",
              " 'get away',\n",
              " 'get back',\n",
              " 'get bad',\n",
              " 'get carter',\n",
              " 'get caught',\n",
              " 'get chance',\n",
              " 'get even',\n",
              " 'get feel',\n",
              " 'get film',\n",
              " 'get go',\n",
              " 'get good',\n",
              " 'get idea',\n",
              " 'get involve',\n",
              " 'get job',\n",
              " 'get kill',\n",
              " 'get know',\n",
              " 'get little',\n",
              " 'get lose',\n",
              " 'get lot',\n",
              " 'get mail',\n",
              " 'get married',\n",
              " 'get money',\n",
              " 'get movie',\n",
              " 'get much',\n",
              " 'get one',\n",
              " 'get past',\n",
              " 'get point',\n",
              " 'get ready',\n",
              " 'get rid',\n",
              " 'get see',\n",
              " 'get shorty',\n",
              " 'get together',\n",
              " 'get way',\n",
              " 'get well',\n",
              " 'get wrong',\n",
              " 'ghost dog',\n",
              " 'ghost mar',\n",
              " 'girl name',\n",
              " 'give audience',\n",
              " 'give away',\n",
              " 'give best',\n",
              " 'give chance',\n",
              " 'give character',\n",
              " 'give enough',\n",
              " 'give film',\n",
              " 'give good',\n",
              " 'give good performance',\n",
              " 'give great',\n",
              " 'give little',\n",
              " 'give movie',\n",
              " 'give much',\n",
              " 'give one',\n",
              " 'give opportunity',\n",
              " 'glenn close',\n",
              " 'go along',\n",
              " 'go anywhere',\n",
              " 'go around',\n",
              " 'go awry',\n",
              " 'go back',\n",
              " 'go bad',\n",
              " 'go beyond',\n",
              " 'go far',\n",
              " 'go film',\n",
              " 'go get',\n",
              " 'go happen',\n",
              " 'go home',\n",
              " 'go little',\n",
              " 'go long',\n",
              " 'go make',\n",
              " 'go movie',\n",
              " 'go nowhere',\n",
              " 'go one',\n",
              " 'go see',\n",
              " 'go see movie',\n",
              " 'go way',\n",
              " 'go without',\n",
              " 'go wrong',\n",
              " 'good action',\n",
              " 'good actor',\n",
              " 'good bad',\n",
              " 'good enough',\n",
              " 'good even',\n",
              " 'good evil',\n",
              " 'good film',\n",
              " 'good get',\n",
              " 'good guy',\n",
              " 'good hunt',\n",
              " 'good idea',\n",
              " 'good job',\n",
              " 'good look',\n",
              " 'good movie',\n",
              " 'good natured',\n",
              " 'good old',\n",
              " 'good one',\n",
              " 'good performance',\n",
              " 'good reason',\n",
              " 'good story',\n",
              " 'good thing',\n",
              " 'good time',\n",
              " 'gooding jr',\n",
              " 'granger movie',\n",
              " 'granger movie gauge',\n",
              " 'granger review',\n",
              " 'graphic violence',\n",
              " 'great act',\n",
              " 'great actor',\n",
              " 'great deal',\n",
              " 'great expectation',\n",
              " 'great film',\n",
              " 'great job',\n",
              " 'great movie',\n",
              " 'great performance',\n",
              " 'great scene',\n",
              " 'green mile',\n",
              " 'greg kinnear',\n",
              " 'groundhog day',\n",
              " 'group people',\n",
              " 'gu van',\n",
              " 'guilty pleasure',\n",
              " 'guy get',\n",
              " 'guy like',\n",
              " 'gwyneth paltrow',\n",
              " 'ha ha',\n",
              " 'half dozen',\n",
              " 'half film',\n",
              " 'half hour',\n",
              " 'hank azaria',\n",
              " 'happy bastard',\n",
              " 'happy end',\n",
              " 'happy gilmore',\n",
              " 'hard boil',\n",
              " 'hard make',\n",
              " 'hard rain',\n",
              " 'hard time',\n",
              " 'hard work',\n",
              " 'harrison ford',\n",
              " 'haunt hill',\n",
              " 'heather graham',\n",
              " 'heavy hand',\n",
              " 'help film',\n",
              " 'help get',\n",
              " 'hen wen',\n",
              " 'high concept',\n",
              " 'high fidelity',\n",
              " 'high point',\n",
              " 'high profile',\n",
              " 'high school',\n",
              " 'high tech',\n",
              " 'hip hop',\n",
              " 'hollywood film',\n",
              " 'hollywood movie',\n",
              " 'holy man',\n",
              " 'home alone',\n",
              " 'home video',\n",
              " 'hong kong',\n",
              " 'horn king',\n",
              " 'horror film',\n",
              " 'horror flick',\n",
              " 'horror movie',\n",
              " 'hotel room',\n",
              " 'hour film',\n",
              " 'hour half',\n",
              " 'hour long',\n",
              " 'house haunt',\n",
              " 'house haunt hill',\n",
              " 'however film',\n",
              " 'however one',\n",
              " 'human being',\n",
              " 'human character',\n",
              " 'humor film',\n",
              " 'ice cream',\n",
              " 'independence day',\n",
              " 'indiana jones',\n",
              " 'instead get',\n",
              " 'interest character',\n",
              " 'interest film',\n",
              " 'jack black',\n",
              " 'jack nicholson',\n",
              " 'jackie brown',\n",
              " 'jackie chan',\n",
              " 'jackie chan movie',\n",
              " 'james bond',\n",
              " 'james cameron',\n",
              " 'james cromwell',\n",
              " 'james wood',\n",
              " 'jamie lee',\n",
              " 'jan de',\n",
              " 'jan de bont',\n",
              " 'jar jar',\n",
              " 'jason biggs',\n",
              " 'jay mohr',\n",
              " 'jay silent',\n",
              " 'jay silent bob',\n",
              " 'jean claude',\n",
              " 'jean claude van',\n",
              " 'jedi knight',\n",
              " 'jeff goldblum',\n",
              " 'jennifer lopez',\n",
              " 'jennifer love',\n",
              " 'jennifer love hewitt',\n",
              " 'jet li',\n",
              " 'jim carrey',\n",
              " 'job make',\n",
              " 'joblo come',\n",
              " 'jodie foster',\n",
              " 'joe black',\n",
              " 'joe young',\n",
              " 'joel schumacher',\n",
              " 'john carpenter',\n",
              " 'john cusack',\n",
              " 'john goodman',\n",
              " 'john grisham',\n",
              " 'john hughes',\n",
              " 'john malkovich',\n",
              " 'john travolta',\n",
              " 'john turturro',\n",
              " 'john williams',\n",
              " 'john woo',\n",
              " 'johnny depp',\n",
              " 'jon voight',\n",
              " 'julia robert',\n",
              " 'julianne moore',\n",
              " 'jurassic park',\n",
              " 'kathy bates',\n",
              " 'keanu reef',\n",
              " 'keep eye',\n",
              " 'kevin bacon',\n",
              " 'kevin costner',\n",
              " 'kevin smith',\n",
              " 'kevin spacey',\n",
              " 'kevin williamson',\n",
              " 'kid movie',\n",
              " 'kill one',\n",
              " 'kill people',\n",
              " 'kind film',\n",
              " 'kind movie',\n",
              " 'kind thing',\n",
              " 'kiss girl',\n",
              " 'know character',\n",
              " 'know exactly',\n",
              " 'know fact',\n",
              " 'know fact film',\n",
              " 'know film',\n",
              " 'know get',\n",
              " 'know go',\n",
              " 'know last',\n",
              " 'know last summer',\n",
              " 'know movie',\n",
              " 'know one',\n",
              " 'know well',\n",
              " 'kung fu',\n",
              " 'la vega',\n",
              " 'large life',\n",
              " 'larry flynt',\n",
              " 'last film',\n",
              " 'last half',\n",
              " 'last minute',\n",
              " 'last night',\n",
              " 'last one',\n",
              " 'last summer',\n",
              " 'last time',\n",
              " 'last two',\n",
              " 'last year',\n",
              " 'late film',\n",
              " 'late night',\n",
              " 'laugh film',\n",
              " 'laugh loud',\n",
              " 'laurence fishburne',\n",
              " 'lead character',\n",
              " 'lead role',\n",
              " 'least bit',\n",
              " 'least one',\n",
              " 'leave theater',\n",
              " 'lee jones',\n",
              " 'leonardo dicaprio',\n",
              " 'let alone',\n",
              " 'let get',\n",
              " 'let go',\n",
              " 'let hope',\n",
              " 'let say',\n",
              " 'lethal weapon',\n",
              " 'liam neeson',\n",
              " 'liev schreiber',\n",
              " 'life beautiful',\n",
              " 'life film',\n",
              " 'life make',\n",
              " 'life one',\n",
              " 'light hearted',\n",
              " 'likable character',\n",
              " 'like alien',\n",
              " 'like bad',\n",
              " 'like could',\n",
              " 'like film',\n",
              " 'like get',\n",
              " 'like good',\n",
              " 'like last',\n",
              " 'like like',\n",
              " 'like make',\n",
              " 'like many',\n",
              " 'like movie',\n",
              " 'like much',\n",
              " 'like one',\n",
              " ...]"
            ]
          },
          "metadata": {
            "tags": []
          },
          "execution_count": 69
        }
      ]
    },
    {
      "cell_type": "code",
      "metadata": {
        "id": "hDvDAYGJTlW-"
      },
      "source": [
        "x_test_features= count_vec.transform(x_test)"
      ],
      "execution_count": 70,
      "outputs": []
    },
    {
      "cell_type": "code",
      "metadata": {
        "colab": {
          "base_uri": "https://localhost:8080/"
        },
        "id": "fu5x5xvuT3Rf",
        "outputId": "322a68c1-2a60-4340-dcaa-a3169312720a"
      },
      "source": [
        "x_test_features"
      ],
      "execution_count": 71,
      "outputs": [
        {
          "output_type": "execute_result",
          "data": {
            "text/plain": [
              "<500x2000 sparse matrix of type '<class 'numpy.int64'>'\n",
              "\twith 12125 stored elements in Compressed Sparse Row format>"
            ]
          },
          "metadata": {
            "tags": []
          },
          "execution_count": 71
        }
      ]
    },
    {
      "cell_type": "code",
      "metadata": {
        "id": "Cslz-VtcT5Ln"
      },
      "source": [
        "from sklearn.svm import SVC"
      ],
      "execution_count": 72,
      "outputs": []
    },
    {
      "cell_type": "code",
      "metadata": {
        "colab": {
          "base_uri": "https://localhost:8080/"
        },
        "id": "W1mRUKjjVOMS",
        "outputId": "0dc407a5-c759-41c0-c71b-39181a26b64b"
      },
      "source": [
        "svc=SVC()\n",
        "svc.fit(x_train_features, y_train)"
      ],
      "execution_count": 73,
      "outputs": [
        {
          "output_type": "execute_result",
          "data": {
            "text/plain": [
              "SVC(C=1.0, break_ties=False, cache_size=200, class_weight=None, coef0=0.0,\n",
              "    decision_function_shape='ovr', degree=3, gamma='scale', kernel='rbf',\n",
              "    max_iter=-1, probability=False, random_state=None, shrinking=True,\n",
              "    tol=0.001, verbose=False)"
            ]
          },
          "metadata": {
            "tags": []
          },
          "execution_count": 73
        }
      ]
    },
    {
      "cell_type": "code",
      "metadata": {
        "colab": {
          "base_uri": "https://localhost:8080/"
        },
        "id": "uIrCrRZUVTZk",
        "outputId": "4c729f71-b9ab-4337-909a-dea377547c68"
      },
      "source": [
        "svc.score(x_test_features,y_test)"
      ],
      "execution_count": 74,
      "outputs": [
        {
          "output_type": "execute_result",
          "data": {
            "text/plain": [
              "0.732"
            ]
          },
          "metadata": {
            "tags": []
          },
          "execution_count": 74
        }
      ]
    },
    {
      "cell_type": "code",
      "metadata": {
        "id": "QIS6t2VnVYJz"
      },
      "source": [
        ""
      ],
      "execution_count": 74,
      "outputs": []
    }
  ]
}