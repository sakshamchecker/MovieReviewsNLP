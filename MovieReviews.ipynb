{
  "nbformat": 4,
  "nbformat_minor": 0,
  "metadata": {
    "colab": {
      "name": "MovieReviews.ipynb",
      "provenance": [],
      "collapsed_sections": [],
      "authorship_tag": "ABX9TyN/sVUg6nJQOO5q9SlLoW3x",
      "include_colab_link": true
    },
    "kernelspec": {
      "name": "python3",
      "display_name": "Python 3"
    },
    "language_info": {
      "name": "python"
    }
  },
  "cells": [
    {
      "cell_type": "markdown",
      "metadata": {
        "id": "view-in-github",
        "colab_type": "text"
      },
      "source": [
        "<a href=\"https://colab.research.google.com/github/sakshamchecker/MovieReviewsNLP/blob/main/MovieReviews.ipynb\" target=\"_parent\"><img src=\"https://colab.research.google.com/assets/colab-badge.svg\" alt=\"Open In Colab\"/></a>"
      ]
    },
    {
      "cell_type": "code",
      "metadata": {
        "colab": {
          "base_uri": "https://localhost:8080/"
        },
        "id": "wN8lxls_AOvx",
        "outputId": "cd164cf1-b8e3-4a87-aade-ba59534f6d06"
      },
      "source": [
        "import nltk\n",
        "from nltk.corpus import movie_reviews\n",
        "nltk.download('movie_reviews')"
      ],
      "execution_count": 3,
      "outputs": [
        {
          "output_type": "stream",
          "text": [
            "[nltk_data] Downloading package movie_reviews to /root/nltk_data...\n",
            "[nltk_data]   Unzipping corpora/movie_reviews.zip.\n"
          ],
          "name": "stdout"
        },
        {
          "output_type": "execute_result",
          "data": {
            "text/plain": [
              "True"
            ]
          },
          "metadata": {
            "tags": []
          },
          "execution_count": 3
        }
      ]
    },
    {
      "cell_type": "code",
      "metadata": {
        "colab": {
          "base_uri": "https://localhost:8080/"
        },
        "id": "E_hA1Q8vAhfO",
        "outputId": "a6852669-9da9-4021-c76c-b6beb19967c4"
      },
      "source": [
        "movie_reviews.categories()"
      ],
      "execution_count": 4,
      "outputs": [
        {
          "output_type": "execute_result",
          "data": {
            "text/plain": [
              "['neg', 'pos']"
            ]
          },
          "metadata": {
            "tags": []
          },
          "execution_count": 4
        }
      ]
    },
    {
      "cell_type": "code",
      "metadata": {
        "colab": {
          "base_uri": "https://localhost:8080/"
        },
        "id": "Lk1mUsHDAoRj",
        "outputId": "8091e01c-88be-4973-d941-7d458b2944f0"
      },
      "source": [
        "len(movie_reviews.fileids())"
      ],
      "execution_count": 7,
      "outputs": [
        {
          "output_type": "execute_result",
          "data": {
            "text/plain": [
              "2000"
            ]
          },
          "metadata": {
            "tags": []
          },
          "execution_count": 7
        }
      ]
    },
    {
      "cell_type": "code",
      "metadata": {
        "colab": {
          "base_uri": "https://localhost:8080/"
        },
        "id": "U-q-8wfFBP8_",
        "outputId": "85b08f9a-814c-4edb-fe08-27763624cc5b"
      },
      "source": [
        "movie_reviews.words(movie_reviews.fileids()[5])"
      ],
      "execution_count": 9,
      "outputs": [
        {
          "output_type": "execute_result",
          "data": {
            "text/plain": [
              "['capsule', ':', 'in', '2176', 'on', 'the', 'planet', ...]"
            ]
          },
          "metadata": {
            "tags": []
          },
          "execution_count": 9
        }
      ]
    },
    {
      "cell_type": "code",
      "metadata": {
        "colab": {
          "base_uri": "https://localhost:8080/"
        },
        "id": "g45RbRFvBi5c",
        "outputId": "30033b46-b42a-481a-daf8-5702199e3e4d"
      },
      "source": [
        "documents=[]\n",
        "for category in movie_reviews.categories():\n",
        "  for fileid in movie_reviews.fileids(category):\n",
        "    documents.append((movie_reviews.words(fileid),category))\n",
        "documents[:5]"
      ],
      "execution_count": 15,
      "outputs": [
        {
          "output_type": "execute_result",
          "data": {
            "text/plain": [
              "[(['plot', ':', 'two', 'teen', 'couples', 'go', 'to', ...], 'neg'),\n",
              " (['the', 'happy', 'bastard', \"'\", 's', 'quick', 'movie', ...], 'neg'),\n",
              " (['it', 'is', 'movies', 'like', 'these', 'that', 'make', ...], 'neg'),\n",
              " (['\"', 'quest', 'for', 'camelot', '\"', 'is', 'warner', ...], 'neg'),\n",
              " (['synopsis', ':', 'a', 'mentally', 'unstable', 'man', ...], 'neg')]"
            ]
          },
          "metadata": {
            "tags": []
          },
          "execution_count": 15
        }
      ]
    },
    {
      "cell_type": "code",
      "metadata": {
        "id": "-ZwmZXNsERUf"
      },
      "source": [
        "import random\n",
        "random.shuffle(documents)"
      ],
      "execution_count": 17,
      "outputs": []
    },
    {
      "cell_type": "code",
      "metadata": {
        "id": "ehJaSO5kPnGq"
      },
      "source": [
        "from nltk.stem import WordNetLemmatizer\n",
        "lemmetizer=WordNetLemmatizer()"
      ],
      "execution_count": 19,
      "outputs": []
    },
    {
      "cell_type": "code",
      "metadata": {
        "id": "MuoBclViQNuh"
      },
      "source": [
        "from nltk.corpus import wordnet\n",
        "\n",
        "def get_simple_pos(tag):\n",
        "  if tag.startswith('J'):\n",
        "    return wordnet.ADJ\n",
        "  if tag.startswith('V'):\n",
        "    return wordnet.VERB\n",
        "  if tag.startswith('N'):\n",
        "    return wordnet.NOUN\n",
        "  if tag.startswith('R'):\n",
        "    return wordnet.ADV\n",
        "  return wordnet.NOUN"
      ],
      "execution_count": 35,
      "outputs": []
    },
    {
      "cell_type": "code",
      "metadata": {
        "colab": {
          "base_uri": "https://localhost:8080/"
        },
        "id": "AKB9r6-zRBLS",
        "outputId": "c3ecc269-deca-46a7-80d9-f7531249852d"
      },
      "source": [
        " import nltk\n",
        " nltk.download('punkt')\n",
        " nltk.download('stopwords')\n",
        " nltk.download('state_union')\n",
        " nltk.download('averaged_perceptron_tagger')\n",
        " nltk.download('wordnet')\n",
        " from nltk import pos_tag"
      ],
      "execution_count": 32,
      "outputs": [
        {
          "output_type": "stream",
          "text": [
            "[nltk_data] Downloading package punkt to /root/nltk_data...\n",
            "[nltk_data]   Package punkt is already up-to-date!\n",
            "[nltk_data] Downloading package stopwords to /root/nltk_data...\n",
            "[nltk_data]   Package stopwords is already up-to-date!\n",
            "[nltk_data] Downloading package state_union to /root/nltk_data...\n",
            "[nltk_data]   Package state_union is already up-to-date!\n",
            "[nltk_data] Downloading package averaged_perceptron_tagger to\n",
            "[nltk_data]     /root/nltk_data...\n",
            "[nltk_data]   Package averaged_perceptron_tagger is already up-to-\n",
            "[nltk_data]       date!\n",
            "[nltk_data] Downloading package wordnet to /root/nltk_data...\n",
            "[nltk_data]   Package wordnet is already up-to-date!\n"
          ],
          "name": "stdout"
        }
      ]
    },
    {
      "cell_type": "code",
      "metadata": {
        "id": "7xSqLhDHRDKt"
      },
      "source": [
        "from nltk.corpus import stopwords\n",
        "stops=set(stopwords.words('english'))\n",
        "import string\n",
        "stops.update(list(string.punctuation))"
      ],
      "execution_count": 28,
      "outputs": []
    },
    {
      "cell_type": "code",
      "metadata": {
        "id": "AoaFT20ARbhW"
      },
      "source": [
        "# stops"
      ],
      "execution_count": 31,
      "outputs": []
    },
    {
      "cell_type": "code",
      "metadata": {
        "id": "0i3t8DBPPPbd"
      },
      "source": [
        "\n",
        "def clean(words):\n",
        "  output_words=[]\n",
        "  for w in words:\n",
        "    if w.lower() not in stops:\n",
        "      pos=pos_tag([w])\n",
        "      clean_word=lemmetizer.lemmatize(w,pos=get_simple_pos(pos[0][1]))\n",
        "      output_words.append(clean_word.lower())\n",
        "  return output_words"
      ],
      "execution_count": 25,
      "outputs": []
    },
    {
      "cell_type": "code",
      "metadata": {
        "id": "E7F8hB6YQzl7"
      },
      "source": [
        "documents=[(clean(doc),category) for doc, category in documents]"
      ],
      "execution_count": 36,
      "outputs": []
    },
    {
      "cell_type": "code",
      "metadata": {
        "colab": {
          "base_uri": "https://localhost:8080/"
        },
        "id": "5gSh1445Rw_A",
        "outputId": "47d02b4a-d8d8-437a-9ed4-849da85cfe11"
      },
      "source": [
        "len(documents)"
      ],
      "execution_count": 37,
      "outputs": [
        {
          "output_type": "execute_result",
          "data": {
            "text/plain": [
              "2000"
            ]
          },
          "metadata": {
            "tags": []
          },
          "execution_count": 37
        }
      ]
    },
    {
      "cell_type": "code",
      "metadata": {
        "id": "1jn3E09TTyNt"
      },
      "source": [
        "training_docs=documents[0:1500]\n",
        "testing_docs=documents[1500:]"
      ],
      "execution_count": 38,
      "outputs": []
    },
    {
      "cell_type": "code",
      "metadata": {
        "id": "_mYkWqz-S4aU"
      },
      "source": [
        "all_words=[]\n",
        "for doc in training_docs:\n",
        "  all_words+=doc[0]"
      ],
      "execution_count": 40,
      "outputs": []
    },
    {
      "cell_type": "code",
      "metadata": {
        "id": "RJnMNxrcUNwj"
      },
      "source": [
        "import nltk"
      ],
      "execution_count": 41,
      "outputs": []
    },
    {
      "cell_type": "code",
      "metadata": {
        "id": "W6bjCGhOUQ5u"
      },
      "source": [
        "freq=nltk.FreqDist(all_words)\n",
        "common=freq.most_common(3000)\n",
        "\n",
        "features=[i[0] for i in common]"
      ],
      "execution_count": 47,
      "outputs": []
    },
    {
      "cell_type": "code",
      "metadata": {
        "id": "2jQCmfcfUT7f"
      },
      "source": [
        "def get_feature_dict(words):\n",
        "  current_features={}\n",
        "  words_set=set(words)\n",
        "  for w in features:\n",
        "    current_features[w]=w in words_set\n",
        "  return current_features"
      ],
      "execution_count": 50,
      "outputs": []
    },
    {
      "cell_type": "code",
      "metadata": {
        "id": "0BLF42PgVlj4"
      },
      "source": [
        "# get_feature_dict(training_docs[0][0])"
      ],
      "execution_count": 52,
      "outputs": []
    },
    {
      "cell_type": "code",
      "metadata": {
        "id": "-HRi_PW8VWxp"
      },
      "source": [
        "training_data=[(get_feature_dict(doc),category) for doc, category in training_docs]"
      ],
      "execution_count": 53,
      "outputs": []
    },
    {
      "cell_type": "code",
      "metadata": {
        "id": "CungwiyhVlHF"
      },
      "source": [
        "# training_data"
      ],
      "execution_count": 55,
      "outputs": []
    },
    {
      "cell_type": "code",
      "metadata": {
        "id": "VLOUIz9VV6GH"
      },
      "source": [
        "testng_data=[(get_feature_dict(doc),category) for doc, category in testing_docs]"
      ],
      "execution_count": 56,
      "outputs": []
    },
    {
      "cell_type": "code",
      "metadata": {
        "id": "Rrbr3rmRWSuN"
      },
      "source": [
        "# training_data[0]"
      ],
      "execution_count": 58,
      "outputs": []
    },
    {
      "cell_type": "code",
      "metadata": {
        "id": "qbzOY6wUWbDY"
      },
      "source": [
        "from nltk import NaiveBayesClassifier"
      ],
      "execution_count": 59,
      "outputs": []
    },
    {
      "cell_type": "code",
      "metadata": {
        "id": "t9JmMCRfWyVS"
      },
      "source": [
        "classifier=NaiveBayesClassifier.train(training_data)"
      ],
      "execution_count": 60,
      "outputs": []
    },
    {
      "cell_type": "code",
      "metadata": {
        "colab": {
          "base_uri": "https://localhost:8080/"
        },
        "id": "daHRxG5gW43a",
        "outputId": "fb098bc3-2abd-4819-8f59-c37c7f477411"
      },
      "source": [
        "nltk.classify.accuracy(classifier, testng_data)"
      ],
      "execution_count": 62,
      "outputs": [
        {
          "output_type": "execute_result",
          "data": {
            "text/plain": [
              "0.794"
            ]
          },
          "metadata": {
            "tags": []
          },
          "execution_count": 62
        }
      ]
    },
    {
      "cell_type": "code",
      "metadata": {
        "colab": {
          "base_uri": "https://localhost:8080/"
        },
        "id": "NeacqAZQXDQW",
        "outputId": "6d5e25fc-e068-4b14-bc86-0224d073b3b3"
      },
      "source": [
        "classifier.show_most_informative_features(15)"
      ],
      "execution_count": 63,
      "outputs": [
        {
          "output_type": "stream",
          "text": [
            "Most Informative Features\n",
            "               ludicrous = True              neg : pos    =     11.1 : 1.0\n",
            "             outstanding = True              pos : neg    =     10.5 : 1.0\n",
            "                 garbage = True              neg : pos    =     10.3 : 1.0\n",
            "                 idiotic = True              neg : pos    =      8.5 : 1.0\n",
            "             wonderfully = True              pos : neg    =      7.9 : 1.0\n",
            "                  seagal = True              neg : pos    =      7.7 : 1.0\n",
            "               stupidity = True              neg : pos    =      7.3 : 1.0\n",
            "                religion = True              pos : neg    =      7.2 : 1.0\n",
            "                   mulan = True              pos : neg    =      7.0 : 1.0\n",
            "                   inept = True              neg : pos    =      6.4 : 1.0\n",
            "                  hamlet = True              pos : neg    =      6.3 : 1.0\n",
            "                 freddie = True              neg : pos    =      6.2 : 1.0\n",
            "             mcconaughey = True              pos : neg    =      6.2 : 1.0\n",
            "            breathtaking = True              pos : neg    =      6.1 : 1.0\n",
            "              schumacher = True              neg : pos    =      5.8 : 1.0\n"
          ],
          "name": "stdout"
        }
      ]
    },
    {
      "cell_type": "code",
      "metadata": {
        "id": "xpl2NO2KXU9m"
      },
      "source": [
        ""
      ],
      "execution_count": null,
      "outputs": []
    }
  ]
}